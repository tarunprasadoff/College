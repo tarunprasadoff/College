{
 "cells": [
  {
   "cell_type": "code",
   "execution_count": 2,
   "metadata": {},
   "outputs": [
    {
     "name": "stdout",
     "output_type": "stream",
     "text": [
      "Please enter the elements of the transformation matrix in a sequential row-wise manner\n",
      "0.707\n",
      "0.707\n",
      "0\n",
      "150\n",
      "-0.707\n",
      "-0.707\n",
      "0\n",
      "-200\n",
      "0\n",
      "0\n",
      "-1\n",
      "400\n",
      "0\n",
      "0\n",
      "0\n",
      "1\n",
      "The joint variables of the manipulator are as follows: -126.75725972245831   179.88736256997078   377   -53.13010284751246  \n"
     ]
    }
   ],
   "source": [
    "import numpy\n",
    "print(\"Please enter the elements of the transformation matrix in a sequential row-wise manner\")\n",
    "\n",
    "N = numpy.zeros([4,4])\n",
    "\n",
    "for i in range(4):\n",
    "\tfor j in range(4):\n",
    "\t\tN[i,j] = input() #Receiving the transformation matrix elements\n",
    "\n",
    "q3 = 777 -int(N[2][3]) #Equation for d3\n",
    "\n",
    "c2 = pow(int(N[0][3]),2) + pow(int(N[1][3]),2) - 375*375 - 425*425 #Equation for Cos Theta\n",
    "\n",
    "s2 = pow(1-c2,1/2) #Equation for Sin Theta\n",
    "\n",
    "q2 = numpy.arctan2(s2,c2)\n",
    "\n",
    "r = 375*c2 + 425 #Equation for r in terms of theta\n",
    "\n",
    "s = 375*s2 #Equation for s in terms of theta\n",
    "\n",
    "q1 = numpy.arctan2(-r*int(N[1][3])-s*int(N[0][3]), int(N[0][3])*r -s*int(N[1][3]))\n",
    "\n",
    "q4 = numpy.arctan2(-int(N[0][1]),int(N[0][0])) - q1 - q2\n",
    "\n",
    "print(\"The joint variables of the manipulator are as follows:\", q1*180/numpy.pi, \" \" ,q2*180/numpy.pi , \" \", q3, \" \" ,q4*180/numpy.pi, \" \")"
   ]
  },
  {
   "cell_type": "code",
   "execution_count": null,
   "metadata": {},
   "outputs": [],
   "source": []
  }
 ],
 "metadata": {
  "kernelspec": {
   "display_name": "Python 3",
   "language": "python",
   "name": "python3"
  },
  "language_info": {
   "codemirror_mode": {
    "name": "ipython",
    "version": 3
   },
   "file_extension": ".py",
   "mimetype": "text/x-python",
   "name": "python",
   "nbconvert_exporter": "python",
   "pygments_lexer": "ipython3",
   "version": "3.7.1"
  }
 },
 "nbformat": 4,
 "nbformat_minor": 2
}
