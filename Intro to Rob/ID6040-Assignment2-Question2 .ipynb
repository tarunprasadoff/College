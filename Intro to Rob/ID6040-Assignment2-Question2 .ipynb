{
 "cells": [
  {
   "cell_type": "code",
   "execution_count": 5,
   "metadata": {},
   "outputs": [],
   "source": [
    "import numpy as np\n",
    "import math"
   ]
  },
  {
   "cell_type": "code",
   "execution_count": 24,
   "metadata": {},
   "outputs": [],
   "source": [
    "def transmatunit(a):\n",
    "    #transmatunit is a function which returns the transformation matrix from n-1 to n when feeded the DH parameters between 2 bodies \n",
    "    #a[0]=theta, a[1]=d, a[2]=a, a[3]=alpha\n",
    "    tm=np.array([[math.cos(a[0]),-math.cos(a[3])*math.sin(a[0]),math.sin(a[3])*math.sin(a[0]),a[2]*math.cos(a[0])],[math.sin(a[0]),math.cos(a[3])*math.cos(a[0]),-math.sin(a[3])*math.cos(a[0]),a[2]*math.sin(a[0])],[0,math.sin(a[2]),math.cos(a[2]),a[1]],[0,0,0,1]])\n",
    "    return tm"
   ]
  },
  {
   "cell_type": "code",
   "execution_count": 53,
   "metadata": {},
   "outputs": [],
   "source": [
    "#dh is a variable which stores the dh parameters between each two bodies from zeroeth to nth in a sequential order in each successive row\n",
    "#transmat is a function which returns the overall transformation matrix from zeroeth to nth\n",
    "def transmat(dh):\n",
    "    t=np.eye(4)\n",
    "    for i in dh:\n",
    "        t=t.dot(transmatunit(i))   \n",
    "    return t"
   ]
  },
  {
   "cell_type": "code",
   "execution_count": 60,
   "metadata": {},
   "outputs": [
    {
     "data": {
      "text/plain": [
       "array([[ 0.10061154, -0.05496433,  0.70947666,  0.64740821],\n",
       "       [ 0.11145638, -0.0608889 , -1.27666875, -0.2974961 ],\n",
       "       [ 0.02444155, -0.01335248,  1.2867911 ,  0.70551305],\n",
       "       [ 0.        ,  0.        ,  0.        ,  1.        ]])"
      ]
     },
     "execution_count": 60,
     "metadata": {},
     "output_type": "execute_result"
    }
   ],
   "source": [
    "#A Puma 560 manipulator has the following parameters\n",
    "#The computation is being done for the following parameter values (angles in radians, distance in cm):\n",
    "theta1=1\n",
    "theta2=0.5\n",
    "theta3=0.25\n",
    "theta4=.75\n",
    "theta5=1.25\n",
    "theta6=0.5\n",
    "alpha1=math.pi/2\n",
    "alpha2=0\n",
    "alpha3=-math.pi/2\n",
    "alpha4=math.pi/2\n",
    "alpha5=-math.pi/2\n",
    "alpha6=0\n",
    "a1=0\n",
    "a2=0.4318\n",
    "a3=0.0203\n",
    "a4=0\n",
    "a5=0\n",
    "a6=0\n",
    "d1=0\n",
    "d2=0\n",
    "d3=.15\n",
    "d4=0.4318\n",
    "d5=0\n",
    "d6=0\n",
    "dh=np.array([[theta1,d1,a1,alpha1],[theta2,d2,a2,alpha2],[theta3,d3,a3,alpha3],[theta4,d4,a4,alpha4],[theta5,d5,a5,alpha5],[theta6,d6,a6,alpha6]])\n",
    "transmat(dh)"
   ]
  },
  {
   "cell_type": "code",
   "execution_count": 61,
   "metadata": {},
   "outputs": [],
   "source": [
    "#The following is the transformation matrix obtained for a PUMA 560 manipulator:\n",
    "#array([[ 0.10061154, -0.05496433,  0.70947666,  0.64740821],[ 0.11145638, -0.0608889 , -1.27666875, -0.2974961 ],[ 0.02444155, -0.01335248,  1.2867911 ,  0.70551305],[ 0.        ,  0.        ,  0.        ,  1.        ]])"
   ]
  }
 ],
 "metadata": {
  "kernelspec": {
   "display_name": "Python 3",
   "language": "python",
   "name": "python3"
  },
  "language_info": {
   "codemirror_mode": {
    "name": "ipython",
    "version": 3
   },
   "file_extension": ".py",
   "mimetype": "text/x-python",
   "name": "python",
   "nbconvert_exporter": "python",
   "pygments_lexer": "ipython3",
   "version": "3.7.1"
  }
 },
 "nbformat": 4,
 "nbformat_minor": 2
}
